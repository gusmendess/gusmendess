{
  "nbformat": 4,
  "nbformat_minor": 0,
  "metadata": {
    "colab": {
      "provenance": [],
      "authorship_tag": "ABX9TyNy3g2W91FeTtDuGsK2gOtZ",
      "include_colab_link": true
    },
    "kernelspec": {
      "name": "python3",
      "display_name": "Python 3"
    },
    "language_info": {
      "name": "python"
    }
  },
  "cells": [
    {
      "cell_type": "markdown",
      "metadata": {
        "id": "view-in-github",
        "colab_type": "text"
      },
      "source": [
        "<a href=\"https://colab.research.google.com/github/gusmendess/gusmendess/blob/main/Object_Detection_YoloV5.ipynb\" target=\"_parent\"><img src=\"https://colab.research.google.com/assets/colab-badge.svg\" alt=\"Open In Colab\"/></a>"
      ]
    },
    {
      "cell_type": "markdown",
      "source": [
        "# Guia de Detecção de Objetos com YoloV5"
      ],
      "metadata": {
        "id": "c40Mdf59TRY6"
      }
    },
    {
      "cell_type": "markdown",
      "source": [
        "<p>Esssa documentação fornece um conjunto completo de códigos para treinar e usar seu próprio modelo personalizado de detecção de objetos usando a API de Detecção de Objetos do Yolov5."
      ],
      "metadata": {
        "id": "BEpopPCbTXKM"
      }
    },
    {
      "cell_type": "markdown",
      "source": [
        "<img src=\"https://raw.githubusercontent.com/ultralytics/assets/main/yolov5/v70/splash.png\">"
      ],
      "metadata": {
        "id": "OezkhtRqTbKI"
      }
    },
    {
      "cell_type": "markdown",
      "source": [
        "## *PREPARING*\n",
        "\n",
        "---\n",
        "\n",
        "\n"
      ],
      "metadata": {
        "id": "qvy3RSTWTchn"
      }
    },
    {
      "cell_type": "markdown",
      "source": [
        "<b>Step 1.</b> Open the repo on google collab: <a href=\"https://colab.research.google.com/github/ultralytics/yolov5/blob/master/tutorial.ipynb\"><img src=\"https://colab.research.google.com/assets/colab-badge.svg\" alt=\"Open In Colab\"></a>\n",
        "<br/><br/>"
      ],
      "metadata": {
        "id": "9Y5lHpWrUYbu"
      }
    },
    {
      "cell_type": "markdown",
      "source": [
        "<b>Step 2.</b> Make sure you are in a Python environment and connect to a Virtual GPU (NOTE: The available GPUs have different processing powers, choose the best available)\n",
        "<pre>\n",
        "<img src=\"https://i.imgur.com/BHvoxrE.jpg\">\n",
        "</pre>\n",
        "<br/>"
      ],
      "metadata": {
        "id": "WmKlW_rWUjSz"
      }
    },
    {
      "cell_type": "markdown",
      "source": [
        "<b>Step 3.</b> Clone repo and install requirements.txt in a Python>=3.8.0 environment, including PyTorch>=1.8."
      ],
      "metadata": {
        "id": "VLrsevubUoQO"
      }
    },
    {
      "cell_type": "code",
      "source": [
        "!git clone https://github.com/ultralytics/yolov5  # clone\n",
        "%cd yolov5\n",
        "%pip install -qr requirements.txt comet_ml  # install\n",
        "\n",
        "import torch\n",
        "import utils\n",
        "display = utils.notebook_init()  # checks"
      ],
      "metadata": {
        "id": "tixN7SbkU8TS"
      },
      "execution_count": null,
      "outputs": []
    },
    {
      "cell_type": "markdown",
      "source": [
        "<b>Step 4.</b> Connect to your Google Drive"
      ],
      "metadata": {
        "id": "5rlYWCDJUnu3"
      }
    },
    {
      "cell_type": "code",
      "source": [
        "from google.colab import drive\n",
        "drive.mount('/content/drive')"
      ],
      "metadata": {
        "id": "_GWjdJ1PU-Nz"
      },
      "execution_count": null,
      "outputs": []
    },
    {
      "cell_type": "markdown",
      "source": [
        "<b>Step 5.</b> Use the command below to extract the dataset present in your drive folder. You have to found the exactly location of the dataset."
      ],
      "metadata": {
        "id": "QYrAnDsjVAOD"
      }
    },
    {
      "cell_type": "code",
      "source": [
        "import zipfile\n",
        "import os\n",
        "\n",
        "#Full path of the source ZIP File and destination directory\n",
        "caminho_zip = '/content/drive/MyDrive/yolov5/dataset.zip'\n",
        "diretorio_destino = '/content'\n",
        "\n",
        "#Extract the ZIP File\n",
        "with zipfile.ZipFile(caminho_zip, 'r') as zip_ref:\n",
        "    zip_ref.extractall(diretorio_destino)\n",
        "\n",
        "print(\"ZIP file extracted successfully.\")"
      ],
      "metadata": {
        "id": "p6Y1n00qVCIT"
      },
      "execution_count": null,
      "outputs": []
    },
    {
      "cell_type": "markdown",
      "source": [
        "<b>Step 6.</b>\n",
        "Create a .yaml file with a structure similar to the example and use the command below to copy it from your drive to the yolov5 repository folder.\n",
        "\n",
        "<img src=\"https://i.imgur.com/Qw0MCdo.jpg\">"
      ],
      "metadata": {
        "id": "0vaBHnnNVHgY"
      }
    },
    {
      "cell_type": "code",
      "source": [
        "import shutil\n",
        "\n",
        "#Full path of the source folder and destination directory\n",
        "pasta_origem = '/content/drive/MyDrive/yolov5/data/helm.yaml'\n",
        "diretorio_destino = '/content/yolov5/data'\n",
        "\n",
        "#Copy source folder to destination directory\n",
        "shutil.copy(pasta_origem, diretorio_destino)\n",
        "\n",
        "print(\"Folder copied successfully.\")"
      ],
      "metadata": {
        "id": "PHjr1-cqVKeG"
      },
      "execution_count": null,
      "outputs": []
    },
    {
      "cell_type": "markdown",
      "source": [
        "## *TRAINING*\n",
        "\n",
        "---\n",
        "\n"
      ],
      "metadata": {
        "id": "K1GaI1SZWaca"
      }
    },
    {
      "cell_type": "markdown",
      "source": [
        "<b>Step 7.</b>\n",
        "Select an extension for real-time analysis of your training\n",
        "<img src=\"https://i.imgur.com/6ivxbmC.jpg\">"
      ],
      "metadata": {
        "id": "I_bqq2UdVbZ5"
      }
    },
    {
      "cell_type": "code",
      "source": [
        "logger = 'Comet' #@param ['Comet', 'ClearML', 'TensorBoard']\n",
        "\n",
        "if logger == 'Comet':\n",
        "  %pip install -q comet_ml\n",
        "  import comet_ml; comet_ml.init()\n",
        "elif logger == 'ClearML':\n",
        "  %pip install -q clearml\n",
        "  import clearml; clearml.browser_login()\n",
        "elif logger == 'TensorBoard':\n",
        "  %load_ext tensorboard\n",
        "  %tensorboard --logdir runs/train"
      ],
      "metadata": {
        "id": "0pY7OcmJVdN3"
      },
      "execution_count": null,
      "outputs": []
    },
    {
      "cell_type": "markdown",
      "source": [
        "<b>Step 8.</b> Start the training. Make sure to understand the parameters of the yolo's documentation (--img; --batch; --epochs; --data; --weights; etc...), this will completely influence the performance of your artificial intelligence."
      ],
      "metadata": {
        "id": "YdrIOa1IVoE4"
      }
    },
    {
      "cell_type": "code",
      "source": [
        "\n",
        "!python train.py --img 640 --batch 50 --epochs 80 --data /content/yolov5/data/helm.yaml --weights yolov5s.pt --cache"
      ],
      "metadata": {
        "id": "qImVzxNkVqyf"
      },
      "execution_count": null,
      "outputs": []
    },
    {
      "cell_type": "markdown",
      "source": [
        "## DETECTION\n",
        "\n",
        "---\n",
        "\n"
      ],
      "metadata": {
        "id": "fpqwBWfGWfu8"
      }
    },
    {
      "cell_type": "markdown",
      "source": [
        "<b>Step 9.</b> Start the detection. Make sure to understand the parameters of the yolo's documentation (--img; --source; --data; --weights; etc...), this will completely influence the performance of your object detection."
      ],
      "metadata": {
        "id": "TOjRZCHtV7py"
      }
    },
    {
      "cell_type": "code",
      "source": [
        "!python detect.py --weights runs/train/exp/last.pt --conf 0.7 --source construction_site.mp4\n",
        "#See the results in the folder \"runs/detect/exp\""
      ],
      "metadata": {
        "id": "2JoCPBlwV-by"
      },
      "execution_count": null,
      "outputs": []
    },
    {
      "cell_type": "markdown",
      "source": [
        "</b> Remember that once you disconnect from google collab you lost all the files. Save the \"last.pt\" file of your training or the final detection to export later."
      ],
      "metadata": {
        "id": "lapSVk_0WA0k"
      }
    }
  ]
}